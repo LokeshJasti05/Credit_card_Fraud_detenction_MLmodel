{
 "cells": [
  {
   "cell_type": "code",
   "execution_count": 1,
   "id": "c9d771e6-eece-4803-93a2-ff59901e1b98",
   "metadata": {},
   "outputs": [
    {
     "name": "stdout",
     "output_type": "stream",
     "text": [
      "* Running on local URL:  http://127.0.0.1:7861\n",
      "\n",
      "To create a public link, set `share=True` in `launch()`.\n"
     ]
    },
    {
     "data": {
      "text/html": [
       "<div><iframe src=\"http://127.0.0.1:7861/\" width=\"100%\" height=\"500\" allow=\"autoplay; camera; microphone; clipboard-read; clipboard-write;\" frameborder=\"0\" allowfullscreen></iframe></div>"
      ],
      "text/plain": [
       "<IPython.core.display.HTML object>"
      ]
     },
     "metadata": {},
     "output_type": "display_data"
    },
    {
     "data": {
      "text/plain": []
     },
     "execution_count": 1,
     "metadata": {},
     "output_type": "execute_result"
    }
   ],
   "source": [
    "import gradio as gr\n",
    "import numpy as np\n",
    "import pandas as pd\n",
    "from sklearn.naive_bayes import GaussianNB\n",
    "from sklearn.preprocessing import StandardScaler\n",
    "from sklearn.model_selection import train_test_split\n",
    "\n",
    "# Use your dataset path\n",
    "dataset_path = r'C:\\Users\\lokes\\Downloads\\credit car fraud db\\creditcard.csv'\n",
    "\n",
    "# Load and prepare data\n",
    "df = pd.read_csv(dataset_path)\n",
    "X = df.drop(columns=[\"Class\"])\n",
    "y = df[\"Class\"]\n",
    "feature_names = X.columns.tolist()\n",
    "\n",
    "scaler = StandardScaler()\n",
    "X_scaled = scaler.fit_transform(X)\n",
    "X_train, X_test, y_train, y_test = train_test_split(X_scaled, y, test_size=0.2, stratify=y, random_state=42)\n",
    "\n",
    "model = GaussianNB()\n",
    "model.fit(X_train, y_train)\n",
    "\n",
    "# Predict for a single transaction\n",
    "def predict_single(*inputs):\n",
    "    arr = np.array(inputs).reshape(1, -1)\n",
    "    scaled = scaler.transform(arr)\n",
    "    pred = model.predict(scaled)[0]\n",
    "    prob = model.predict_proba(scaled)[0][1]\n",
    "    return (\"Fraud\" if pred == 1 else \"Legitimate\", f\"{prob*100:.2f}% fraud probability\")\n",
    "\n",
    "# Predict from uploaded CSV\n",
    "def predict_file(file):\n",
    "    data = pd.read_csv(file.name)\n",
    "    if not set(feature_names).issubset(data.columns):\n",
    "        return \"CSV missing required features.\"\n",
    "    scaled = scaler.transform(data[feature_names])\n",
    "    preds = model.predict(scaled)\n",
    "    probs = model.predict_proba(scaled)[:, 1]\n",
    "    data[\"Prediction\"] = np.where(preds == 1, \"Fraud\", \"Legitimate\")\n",
    "    data[\"Fraud Probability (%)\"] = (probs * 100).round(2)\n",
    "    return data\n",
    "\n",
    "# Build the Gradio UI\n",
    "single_inputs = [gr.Number(label=f) for f in feature_names]\n",
    "\n",
    "single_interface = gr.Interface(\n",
    "    fn=predict_single,\n",
    "    inputs=single_inputs,\n",
    "    outputs=[\"text\", \"text\"],\n",
    "    title=\"Single Transaction Fraud Detection\",\n",
    "    description=\"Enter the 30 features manually to predict fraud.\"\n",
    ")\n",
    "\n",
    "batch_interface = gr.Interface(\n",
    "    fn=predict_file,\n",
    "    inputs=gr.File(label=\"Upload CSV File\"),\n",
    "    outputs=gr.Dataframe(),\n",
    "    title=\"Batch Fraud Detection\",\n",
    "    description=\"Upload a CSV file with multiple transactions.\"\n",
    ")\n",
    "\n",
    "app = gr.TabbedInterface([single_interface, batch_interface], [\"Single Entry\", \"Batch Upload\"])\n",
    "app.launch()\n"
   ]
  },
  {
   "cell_type": "code",
   "execution_count": null,
   "id": "72a71302-1775-45c9-9464-b1df0bab4448",
   "metadata": {},
   "outputs": [],
   "source": []
  }
 ],
 "metadata": {
  "kernelspec": {
   "display_name": "Python 3 (ipykernel)",
   "language": "python",
   "name": "python3"
  },
  "language_info": {
   "codemirror_mode": {
    "name": "ipython",
    "version": 3
   },
   "file_extension": ".py",
   "mimetype": "text/x-python",
   "name": "python",
   "nbconvert_exporter": "python",
   "pygments_lexer": "ipython3",
   "version": "3.12.4"
  }
 },
 "nbformat": 4,
 "nbformat_minor": 5
}
